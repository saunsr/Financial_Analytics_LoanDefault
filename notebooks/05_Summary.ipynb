{
 "cells": [
  {
   "cell_type": "markdown",
   "id": "765df8db",
   "metadata": {},
   "source": [
    "# Summary Report — Loan Default Prediction"
   ]
  },
  {
   "cell_type": "code",
   "execution_count": null,
   "id": "4b6a28f4",
   "metadata": {},
   "outputs": [],
   "source": [
    "# 1. Imports & Setup\n",
    "from pathlib import Path\n",
    "import pandas as pd\n",
    "import matplotlib.pyplot as plt\n",
    "import sys\n",
    "\n",
    "# Find ROOT\n",
    "ROOT = Path.cwd().resolve().parents[0] if Path.cwd().name == \"notebooks\" else Path.cwd()\n",
    "if str(ROOT) not in sys.path:\n",
    "    sys.path.append(str(ROOT))\n",
    "\n",
    "# 2. Load config\n",
    "from src.data_loader import load_config\n",
    "cfg = load_config()\n",
    "\n",
    "# 3. Load engineered data\n",
    "engineered_path = (ROOT / cfg[\"paths\"][\"processed_data_dir\"] / \"loan_default_engineered.csv\").resolve()\n",
    "df = pd.read_csv(engineered_path)"
   ]
  },
  {
   "cell_type": "code",
   "execution_count": 6,
   "id": "35b5a933",
   "metadata": {},
   "outputs": [
    {
     "data": {
      "text/html": [
       "<div>\n",
       "<style scoped>\n",
       "    .dataframe tbody tr th:only-of-type {\n",
       "        vertical-align: middle;\n",
       "    }\n",
       "\n",
       "    .dataframe tbody tr th {\n",
       "        vertical-align: top;\n",
       "    }\n",
       "\n",
       "    .dataframe thead th {\n",
       "        text-align: right;\n",
       "    }\n",
       "</style>\n",
       "<table border=\"1\" class=\"dataframe\">\n",
       "  <thead>\n",
       "    <tr style=\"text-align: right;\">\n",
       "      <th></th>\n",
       "      <th>employed</th>\n",
       "      <th>bank_balance</th>\n",
       "      <th>annual_salary</th>\n",
       "      <th>DEFAULT</th>\n",
       "      <th>log_bank_balance</th>\n",
       "      <th>log_annual_salary</th>\n",
       "      <th>balance_to_salary</th>\n",
       "      <th>employed_x_log_salary</th>\n",
       "    </tr>\n",
       "  </thead>\n",
       "  <tbody>\n",
       "    <tr>\n",
       "      <th>0</th>\n",
       "      <td>1</td>\n",
       "      <td>8754.36</td>\n",
       "      <td>532339.56</td>\n",
       "      <td>0</td>\n",
       "      <td>9.077421</td>\n",
       "      <td>13.185039</td>\n",
       "      <td>0.016445</td>\n",
       "      <td>13.185039</td>\n",
       "    </tr>\n",
       "    <tr>\n",
       "      <th>1</th>\n",
       "      <td>0</td>\n",
       "      <td>9806.16</td>\n",
       "      <td>145273.56</td>\n",
       "      <td>0</td>\n",
       "      <td>9.190868</td>\n",
       "      <td>11.886381</td>\n",
       "      <td>0.067501</td>\n",
       "      <td>0.000000</td>\n",
       "    </tr>\n",
       "    <tr>\n",
       "      <th>2</th>\n",
       "      <td>1</td>\n",
       "      <td>12882.60</td>\n",
       "      <td>381205.68</td>\n",
       "      <td>0</td>\n",
       "      <td>9.463710</td>\n",
       "      <td>12.851097</td>\n",
       "      <td>0.033794</td>\n",
       "      <td>12.851097</td>\n",
       "    </tr>\n",
       "    <tr>\n",
       "      <th>3</th>\n",
       "      <td>1</td>\n",
       "      <td>6351.00</td>\n",
       "      <td>428453.88</td>\n",
       "      <td>0</td>\n",
       "      <td>8.756525</td>\n",
       "      <td>12.967941</td>\n",
       "      <td>0.014823</td>\n",
       "      <td>12.967941</td>\n",
       "    </tr>\n",
       "    <tr>\n",
       "      <th>4</th>\n",
       "      <td>1</td>\n",
       "      <td>9427.92</td>\n",
       "      <td>461562.00</td>\n",
       "      <td>0</td>\n",
       "      <td>9.151537</td>\n",
       "      <td>13.042374</td>\n",
       "      <td>0.020426</td>\n",
       "      <td>13.042374</td>\n",
       "    </tr>\n",
       "  </tbody>\n",
       "</table>\n",
       "</div>"
      ],
      "text/plain": [
       "   employed  bank_balance  annual_salary  DEFAULT  log_bank_balance  \\\n",
       "0         1       8754.36      532339.56        0          9.077421   \n",
       "1         0       9806.16      145273.56        0          9.190868   \n",
       "2         1      12882.60      381205.68        0          9.463710   \n",
       "3         1       6351.00      428453.88        0          8.756525   \n",
       "4         1       9427.92      461562.00        0          9.151537   \n",
       "\n",
       "   log_annual_salary  balance_to_salary  employed_x_log_salary  \n",
       "0          13.185039           0.016445              13.185039  \n",
       "1          11.886381           0.067501               0.000000  \n",
       "2          12.851097           0.033794              12.851097  \n",
       "3          12.967941           0.014823              12.967941  \n",
       "4          13.042374           0.020426              13.042374  "
      ]
     },
     "execution_count": 6,
     "metadata": {},
     "output_type": "execute_result"
    }
   ],
   "source": [
    "# 4. Load model summary\n",
    "summary_path = ROOT / \"reports\" / \"baseline_summary.csv\"\n",
    "summary = pd.read_csv(summary_path)\n",
    "# 5. Show head of data\n",
    "df.head()"
   ]
  },
  {
   "cell_type": "code",
   "execution_count": 7,
   "id": "c40989cf",
   "metadata": {},
   "outputs": [
    {
     "data": {
      "image/png": "[encoded data removed]",
      "text/plain": [
       "<Figure size 600x400 with 1 Axes>"
      ]
     },
     "metadata": {},
     "output_type": "display_data"
    }
   ],
   "source": [
    "# 6. Plot Model Comparison\n",
    "fig, ax = plt.subplots(figsize=(6, 4))\n",
    "bar_width = 0.35\n",
    "x = range(len(summary))\n",
    "ax.bar(x, summary[\"roc_auc\"], bar_width, label=\"ROC-AUC\")\n",
    "ax.bar([i + bar_width for i in x], summary[\"pr_auc\"], bar_width, label=\"PR-AUC\")\n",
    "ax.set_xticks([i + bar_width / 2 for i in x])\n",
    "ax.set_xticklabels(summary[\"model\"])\n",
    "ax.set_ylabel(\"Score\")\n",
    "ax.set_ylim(0, 1)\n",
    "ax.set_title(\"Baseline Model Performance\")\n",
    "ax.legend()\n",
    "plt.show()"
   ]
  },
  {
   "cell_type": "markdown",
   "id": "48078df7",
   "metadata": {},
   "source": [
    "## Key Findings\n",
    "\n",
    "1. **Class Imbalance**  \n",
    "   Defaults make up ~3.3% of dataset — PR-AUC is the more telling metric.\n",
    "\n",
    "2. **Model Results**  \n",
    "   - Logistic Regression: ROC-AUC 0.95, PR-AUC 0.46\n",
    "   - Random Forest: ROC-AUC 0.89, PR-AUC 0.39\n",
    "   Logistic Regression captured ~82% of defaults in top 10% risk predictions.\n",
    "\n",
    "3. **Feature Impact**  \n",
    "   Counterintuitive trend where higher bank balances were linked to higher default — likely needs business validation.\n",
    "\n",
    "4. **Business Takeaway**  \n",
    "   High ROC-AUC is promising, but class imbalance means a focus on **precision-recall** and **capture rates** is essential for deployment.\n",
    "\n",
    "4. **Scoring and risk-segmentation**  \n",
    "\n",
    "# Further Scope\n",
    "\n",
    "- Perform threshold tuning for recall optimization.\n",
    "- Explore ensemble and boosted tree methods.\n",
    "- Validate data anomalies with business SMEs.\n",
    "- Build KPI monitoring for post-deployment."
   ]
  }
 ],
 "metadata": {
  "kernelspec": {
   "display_name": "Python 3",
   "language": "python",
   "name": "python3"
  },
  "language_info": {
   "codemirror_mode": {
    "name": "ipython",
    "version": 3
   },
   "file_extension": ".py",
   "mimetype": "text/x-python",
   "name": "python",
   "nbconvert_exporter": "python",
   "pygments_lexer": "ipython3",
   "version": "3.10.0"
  }
 },
 "nbformat": 4,
 "nbformat_minor": 5
}
