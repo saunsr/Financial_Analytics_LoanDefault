{
 "cells": [
  {
   "cell_type": "markdown",
   "id": "d9742e31",
   "metadata": {},
   "source": [
    "Load Data"
   ]
  },
  {
   "cell_type": "code",
   "execution_count": 1,
   "id": "086889d4",
   "metadata": {},
   "outputs": [
    {
     "name": "stdout",
     "output_type": "stream",
     "text": [
      "Loaded: C:\\Users\\sauna\\DS Projects\\Financial_Analytics_LDP\\data\\processed\\loan_default_engineered.csv\n",
      "Shape: (10000, 8)\n"
     ]
    },
    {
     "data": {
      "text/html": [
       "<div>\n",
       "<style scoped>\n",
       "    .dataframe tbody tr th:only-of-type {\n",
       "        vertical-align: middle;\n",
       "    }\n",
       "\n",
       "    .dataframe tbody tr th {\n",
       "        vertical-align: top;\n",
       "    }\n",
       "\n",
       "    .dataframe thead th {\n",
       "        text-align: right;\n",
       "    }\n",
       "</style>\n",
       "<table border=\"1\" class=\"dataframe\">\n",
       "  <thead>\n",
       "    <tr style=\"text-align: right;\">\n",
       "      <th></th>\n",
       "      <th>employed</th>\n",
       "      <th>bank_balance</th>\n",
       "      <th>annual_salary</th>\n",
       "      <th>DEFAULT</th>\n",
       "      <th>log_bank_balance</th>\n",
       "      <th>log_annual_salary</th>\n",
       "      <th>balance_to_salary</th>\n",
       "      <th>employed_x_log_salary</th>\n",
       "    </tr>\n",
       "  </thead>\n",
       "  <tbody>\n",
       "    <tr>\n",
       "      <th>0</th>\n",
       "      <td>1</td>\n",
       "      <td>8754.36</td>\n",
       "      <td>532339.56</td>\n",
       "      <td>0</td>\n",
       "      <td>9.077421</td>\n",
       "      <td>13.185039</td>\n",
       "      <td>0.016445</td>\n",
       "      <td>13.185039</td>\n",
       "    </tr>\n",
       "    <tr>\n",
       "      <th>1</th>\n",
       "      <td>0</td>\n",
       "      <td>9806.16</td>\n",
       "      <td>145273.56</td>\n",
       "      <td>0</td>\n",
       "      <td>9.190868</td>\n",
       "      <td>11.886381</td>\n",
       "      <td>0.067501</td>\n",
       "      <td>0.000000</td>\n",
       "    </tr>\n",
       "    <tr>\n",
       "      <th>2</th>\n",
       "      <td>1</td>\n",
       "      <td>12882.60</td>\n",
       "      <td>381205.68</td>\n",
       "      <td>0</td>\n",
       "      <td>9.463710</td>\n",
       "      <td>12.851097</td>\n",
       "      <td>0.033794</td>\n",
       "      <td>12.851097</td>\n",
       "    </tr>\n",
       "    <tr>\n",
       "      <th>3</th>\n",
       "      <td>1</td>\n",
       "      <td>6351.00</td>\n",
       "      <td>428453.88</td>\n",
       "      <td>0</td>\n",
       "      <td>8.756525</td>\n",
       "      <td>12.967941</td>\n",
       "      <td>0.014823</td>\n",
       "      <td>12.967941</td>\n",
       "    </tr>\n",
       "    <tr>\n",
       "      <th>4</th>\n",
       "      <td>1</td>\n",
       "      <td>9427.92</td>\n",
       "      <td>461562.00</td>\n",
       "      <td>0</td>\n",
       "      <td>9.151537</td>\n",
       "      <td>13.042374</td>\n",
       "      <td>0.020426</td>\n",
       "      <td>13.042374</td>\n",
       "    </tr>\n",
       "  </tbody>\n",
       "</table>\n",
       "</div>"
      ],
      "text/plain": [
       "   employed  bank_balance  annual_salary  DEFAULT  log_bank_balance  \\\n",
       "0         1       8754.36      532339.56        0          9.077421   \n",
       "1         0       9806.16      145273.56        0          9.190868   \n",
       "2         1      12882.60      381205.68        0          9.463710   \n",
       "3         1       6351.00      428453.88        0          8.756525   \n",
       "4         1       9427.92      461562.00        0          9.151537   \n",
       "\n",
       "   log_annual_salary  balance_to_salary  employed_x_log_salary  \n",
       "0          13.185039           0.016445              13.185039  \n",
       "1          11.886381           0.067501               0.000000  \n",
       "2          12.851097           0.033794              12.851097  \n",
       "3          12.967941           0.014823              12.967941  \n",
       "4          13.042374           0.020426              13.042374  "
      ]
     },
     "execution_count": 1,
     "metadata": {},
     "output_type": "execute_result"
    }
   ],
   "source": [
    "# --- Imports & paths ---\n",
    "from pathlib import Path\n",
    "import sys\n",
    "import pandas as pd\n",
    "import numpy as np\n",
    "import matplotlib.pyplot as plt\n",
    "\n",
    "# Project ROOT (works in / or /notebooks)\n",
    "ROOT = Path.cwd().resolve().parents[0] if Path.cwd().name == \"notebooks\" else Path.cwd()\n",
    "if str(ROOT) not in sys.path:\n",
    "    sys.path.append(str(ROOT))\n",
    "\n",
    "# Load engineered dataset\n",
    "engineered_path = ROOT / \"data\" / \"processed\" / \"loan_default_engineered.csv\"\n",
    "assert engineered_path.exists(), f\"Engineered dataset not found at {engineered_path}. Run 02_feature_engineering.ipynb first.\"\n",
    "\n",
    "df = pd.read_csv(engineered_path)\n",
    "print(\"Loaded:\", engineered_path)\n",
    "print(\"Shape:\", df.shape)\n",
    "df.head()"
   ]
  },
  {
   "cell_type": "markdown",
   "id": "0ea26054",
   "metadata": {},
   "source": [
    "Select all features and taget"
   ]
  },
  {
   "cell_type": "code",
   "execution_count": 2,
   "id": "b83a2bf8",
   "metadata": {},
   "outputs": [
    {
     "data": {
      "text/plain": [
       "((10000, 5), (10000,), np.float64(0.0333))"
      ]
     },
     "execution_count": 2,
     "metadata": {},
     "output_type": "execute_result"
    }
   ],
   "source": [
    "# Feature set & target\n",
    "TARGET = \"DEFAULT\"\n",
    "\n",
    "FEATURES = [\n",
    "    \"employed\",\n",
    "    \"log_bank_balance\",\n",
    "    \"log_annual_salary\",\n",
    "    \"balance_to_salary\",\n",
    "    \"employed_x_log_salary\",\n",
    "]\n",
    "\n",
    "# Basic sanity\n",
    "missing_cols = [c for c in FEATURES + [TARGET] if c not in df.columns]\n",
    "assert not missing_cols, f\"Missing columns: {missing_cols}. Did you save engineered features?\"\n",
    "\n",
    "X = df[FEATURES].copy()\n",
    "y = df[TARGET].copy()\n",
    "\n",
    "X.shape, y.shape, y.mean().round(4)  # show class rate (~0.033)\n"
   ]
  },
  {
   "cell_type": "markdown",
   "id": "a6aeae18",
   "metadata": {},
   "source": [
    "Use best model for scoring PD"
   ]
  },
  {
   "cell_type": "code",
   "execution_count": 3,
   "id": "6e54f76a",
   "metadata": {},
   "outputs": [
    {
     "name": "stdout",
     "output_type": "stream",
     "text": [
      "Fitted final logistic pipeline on full engineered dataset.\n"
     ]
    }
   ],
   "source": [
    "from sklearn.pipeline import Pipeline\n",
    "from sklearn.preprocessing import StandardScaler\n",
    "from sklearn.linear_model import LogisticRegression\n",
    "\n",
    "# Best model pipeline\n",
    "logit_final = Pipeline(steps=[\n",
    "    (\"scaler\", StandardScaler()),\n",
    "    (\"clf\", LogisticRegression(\n",
    "        class_weight=\"balanced\",\n",
    "        max_iter=1000,\n",
    "        solver=\"liblinear\"\n",
    "    ))\n",
    "])\n",
    "\n",
    "# Fit on the full dataset (after you’ve already validated model choice in 03)\n",
    "logit_final.fit(X, y)\n",
    "\n",
    "print(\"Fitted final logistic pipeline on full engineered dataset.\")\n"
   ]
  },
  {
   "cell_type": "markdown",
   "id": "9b372e21",
   "metadata": {},
   "source": [
    "Compute all PD"
   ]
  },
  {
   "cell_type": "code",
   "execution_count": 4,
   "id": "9f229853",
   "metadata": {},
   "outputs": [
    {
     "data": {
      "image/png": "[encoded data removed]",
      "text/plain": [
       "<Figure size 600x400 with 1 Axes>"
      ]
     },
     "metadata": {},
     "output_type": "display_data"
    },
    {
     "data": {
      "text/html": [
       "<div>\n",
       "<style scoped>\n",
       "    .dataframe tbody tr th:only-of-type {\n",
       "        vertical-align: middle;\n",
       "    }\n",
       "\n",
       "    .dataframe tbody tr th {\n",
       "        vertical-align: top;\n",
       "    }\n",
       "\n",
       "    .dataframe thead th {\n",
       "        text-align: right;\n",
       "    }\n",
       "</style>\n",
       "<table border=\"1\" class=\"dataframe\">\n",
       "  <thead>\n",
       "    <tr style=\"text-align: right;\">\n",
       "      <th></th>\n",
       "      <th>count</th>\n",
       "      <th>mean</th>\n",
       "      <th>std</th>\n",
       "      <th>min</th>\n",
       "      <th>25%</th>\n",
       "      <th>50%</th>\n",
       "      <th>75%</th>\n",
       "      <th>max</th>\n",
       "    </tr>\n",
       "  </thead>\n",
       "  <tbody>\n",
       "    <tr>\n",
       "      <th>PD</th>\n",
       "      <td>10000.0</td>\n",
       "      <td>0.207441</td>\n",
       "      <td>0.282416</td>\n",
       "      <td>9.236056e-27</td>\n",
       "      <td>0.001829</td>\n",
       "      <td>0.052819</td>\n",
       "      <td>0.337876</td>\n",
       "      <td>1.0</td>\n",
       "    </tr>\n",
       "  </tbody>\n",
       "</table>\n",
       "</div>"
      ],
      "text/plain": [
       "      count      mean       std           min       25%       50%       75%  \\\n",
       "PD  10000.0  0.207441  0.282416  9.236056e-27  0.001829  0.052819  0.337876   \n",
       "\n",
       "    max  \n",
       "PD  1.0  "
      ]
     },
     "execution_count": 4,
     "metadata": {},
     "output_type": "execute_result"
    }
   ],
   "source": [
    "# Probability of Default for each row\n",
    "pd_scores = logit_final.predict_proba(X)[:, 1]\n",
    "df_scored = df.copy()\n",
    "df_scored[\"PD\"] = pd_scores\n",
    "\n",
    "# Quick peek: distribution of PDs\n",
    "plt.figure(figsize=(6,4))\n",
    "plt.hist(df_scored[\"PD\"], bins=30)\n",
    "plt.title(\"Distribution of Predicted PD\")\n",
    "plt.xlabel(\"PD\")\n",
    "plt.ylabel(\"Count\")\n",
    "plt.tight_layout()\n",
    "plt.show()\n",
    "\n",
    "df_scored[[\"PD\"]].describe().T\n"
   ]
  },
  {
   "cell_type": "markdown",
   "id": "4fd6efcb",
   "metadata": {},
   "source": [
    "Threshold classification @ 0.5"
   ]
  },
  {
   "cell_type": "code",
   "execution_count": 5,
   "id": "3c82d898",
   "metadata": {},
   "outputs": [
    {
     "data": {
      "text/html": [
       "<div>\n",
       "<style scoped>\n",
       "    .dataframe tbody tr th:only-of-type {\n",
       "        vertical-align: middle;\n",
       "    }\n",
       "\n",
       "    .dataframe tbody tr th {\n",
       "        vertical-align: top;\n",
       "    }\n",
       "\n",
       "    .dataframe thead th {\n",
       "        text-align: right;\n",
       "    }\n",
       "</style>\n",
       "<table border=\"1\" class=\"dataframe\">\n",
       "  <thead>\n",
       "    <tr style=\"text-align: right;\">\n",
       "      <th></th>\n",
       "      <th>count</th>\n",
       "    </tr>\n",
       "    <tr>\n",
       "      <th>pred_fixed_0_5</th>\n",
       "      <th></th>\n",
       "    </tr>\n",
       "  </thead>\n",
       "  <tbody>\n",
       "    <tr>\n",
       "      <th>0</th>\n",
       "      <td>8196</td>\n",
       "    </tr>\n",
       "    <tr>\n",
       "      <th>1</th>\n",
       "      <td>1804</td>\n",
       "    </tr>\n",
       "  </tbody>\n",
       "</table>\n",
       "</div>"
      ],
      "text/plain": [
       "                count\n",
       "pred_fixed_0_5       \n",
       "0                8196\n",
       "1                1804"
      ]
     },
     "execution_count": 5,
     "metadata": {},
     "output_type": "execute_result"
    }
   ],
   "source": [
    "# Fixed threshold classification (thr=0.5)\n",
    "thr_fixed = 0.5\n",
    "df_scored[\"pred_fixed_0_5\"] = (df_scored[\"PD\"] >= thr_fixed).astype(int)\n",
    "\n",
    "# See the class counts this produces\n",
    "df_scored[\"pred_fixed_0_5\"].value_counts().to_frame(\"count\")\n"
   ]
  },
  {
   "cell_type": "markdown",
   "id": "b912697f",
   "metadata": {},
   "source": [
    "Capacity based classification"
   ]
  },
  {
   "cell_type": "code",
   "execution_count": 6,
   "id": "e779a1e9",
   "metadata": {},
   "outputs": [
    {
     "data": {
      "text/html": [
       "<div>\n",
       "<style scoped>\n",
       "    .dataframe tbody tr th:only-of-type {\n",
       "        vertical-align: middle;\n",
       "    }\n",
       "\n",
       "    .dataframe tbody tr th {\n",
       "        vertical-align: top;\n",
       "    }\n",
       "\n",
       "    .dataframe thead th {\n",
       "        text-align: right;\n",
       "    }\n",
       "</style>\n",
       "<table border=\"1\" class=\"dataframe\">\n",
       "  <thead>\n",
       "    <tr style=\"text-align: right;\">\n",
       "      <th></th>\n",
       "      <th>topK_percent</th>\n",
       "      <th>n_flagged</th>\n",
       "      <th>portfolio_size</th>\n",
       "    </tr>\n",
       "  </thead>\n",
       "  <tbody>\n",
       "    <tr>\n",
       "      <th>0</th>\n",
       "      <td>0.1</td>\n",
       "      <td>1000</td>\n",
       "      <td>10000</td>\n",
       "    </tr>\n",
       "  </tbody>\n",
       "</table>\n",
       "</div>"
      ],
      "text/plain": [
       "   topK_percent  n_flagged  portfolio_size\n",
       "0           0.1       1000           10000"
      ]
     },
     "execution_count": 6,
     "metadata": {},
     "output_type": "execute_result"
    }
   ],
   "source": [
    "# Capacity-based: flag top K% as default\n",
    "K = 0.10  # e.g., top 10% riskiest\n",
    "n = len(df_scored)\n",
    "k_cut = int(np.ceil(K * n))\n",
    "\n",
    "order = np.argsort(-df_scored[\"PD\"].values)  # descending PD\n",
    "flag_idx = order[:k_cut]\n",
    "\n",
    "df_scored[\"pred_topK\"] = 0\n",
    "df_scored.loc[df_scored.index[flag_idx], \"pred_topK\"] = 1\n",
    "\n",
    "# Check counts\n",
    "pd.DataFrame({\n",
    "    \"topK_percent\": [K],\n",
    "    \"n_flagged\": [df_scored[\"pred_topK\"].sum()],\n",
    "    \"portfolio_size\": [n]\n",
    "})\n"
   ]
  },
  {
   "cell_type": "markdown",
   "id": "71121561",
   "metadata": {},
   "source": [
    "Simple risk segmentation"
   ]
  },
  {
   "cell_type": "code",
   "execution_count": 7,
   "id": "79ee25dc",
   "metadata": {},
   "outputs": [
    {
     "data": {
      "text/html": [
       "<div>\n",
       "<style scoped>\n",
       "    .dataframe tbody tr th:only-of-type {\n",
       "        vertical-align: middle;\n",
       "    }\n",
       "\n",
       "    .dataframe tbody tr th {\n",
       "        vertical-align: top;\n",
       "    }\n",
       "\n",
       "    .dataframe thead th {\n",
       "        text-align: right;\n",
       "    }\n",
       "</style>\n",
       "<table border=\"1\" class=\"dataframe\">\n",
       "  <thead>\n",
       "    <tr style=\"text-align: right;\">\n",
       "      <th></th>\n",
       "      <th>count</th>\n",
       "    </tr>\n",
       "    <tr>\n",
       "      <th>risk_band</th>\n",
       "      <th></th>\n",
       "    </tr>\n",
       "  </thead>\n",
       "  <tbody>\n",
       "    <tr>\n",
       "      <th>Standard</th>\n",
       "      <td>7500</td>\n",
       "    </tr>\n",
       "    <tr>\n",
       "      <th>Review</th>\n",
       "      <td>1500</td>\n",
       "    </tr>\n",
       "    <tr>\n",
       "      <th>High</th>\n",
       "      <td>1000</td>\n",
       "    </tr>\n",
       "  </tbody>\n",
       "</table>\n",
       "</div>"
      ],
      "text/plain": [
       "           count\n",
       "risk_band       \n",
       "Standard    7500\n",
       "Review      1500\n",
       "High        1000"
      ]
     },
     "execution_count": 7,
     "metadata": {},
     "output_type": "execute_result"
    }
   ],
   "source": [
    "# Simple 3-band risk segmentation\n",
    "high_cut = np.quantile(df_scored[\"PD\"], 1 - 0.10)  # top 10%\n",
    "review_cut = np.quantile(df_scored[\"PD\"], 1 - 0.25)  # next 15%\n",
    "\n",
    "def band(pd_):\n",
    "    if pd_ >= high_cut:\n",
    "        return \"High\"\n",
    "    elif pd_ >= review_cut:\n",
    "        return \"Review\"\n",
    "    else:\n",
    "        return \"Standard\"\n",
    "\n",
    "df_scored[\"risk_band\"] = df_scored[\"PD\"].apply(band)\n",
    "\n",
    "df_scored[\"risk_band\"].value_counts().to_frame(\"count\")\n"
   ]
  },
  {
   "cell_type": "markdown",
   "id": "684b4723",
   "metadata": {},
   "source": [
    "Save outputs"
   ]
  },
  {
   "cell_type": "code",
   "execution_count": 8,
   "id": "36549a2f",
   "metadata": {},
   "outputs": [
    {
     "name": "stdout",
     "output_type": "stream",
     "text": [
      "Saved scored file to: C:\\Users\\sauna\\DS Projects\\Financial_Analytics_LDP\\reports\\scored_customers.csv\n"
     ]
    },
    {
     "data": {
      "text/html": [
       "<div>\n",
       "<style scoped>\n",
       "    .dataframe tbody tr th:only-of-type {\n",
       "        vertical-align: middle;\n",
       "    }\n",
       "\n",
       "    .dataframe tbody tr th {\n",
       "        vertical-align: top;\n",
       "    }\n",
       "\n",
       "    .dataframe thead th {\n",
       "        text-align: right;\n",
       "    }\n",
       "</style>\n",
       "<table border=\"1\" class=\"dataframe\">\n",
       "  <thead>\n",
       "    <tr style=\"text-align: right;\">\n",
       "      <th></th>\n",
       "      <th>employed</th>\n",
       "      <th>log_bank_balance</th>\n",
       "      <th>log_annual_salary</th>\n",
       "      <th>balance_to_salary</th>\n",
       "      <th>employed_x_log_salary</th>\n",
       "      <th>DEFAULT</th>\n",
       "      <th>PD</th>\n",
       "      <th>pred_fixed_0_5</th>\n",
       "      <th>pred_topK</th>\n",
       "      <th>risk_band</th>\n",
       "    </tr>\n",
       "  </thead>\n",
       "  <tbody>\n",
       "    <tr>\n",
       "      <th>0</th>\n",
       "      <td>1</td>\n",
       "      <td>9.077421</td>\n",
       "      <td>13.185039</td>\n",
       "      <td>0.016445</td>\n",
       "      <td>13.185039</td>\n",
       "      <td>0</td>\n",
       "      <td>0.035087</td>\n",
       "      <td>0</td>\n",
       "      <td>0</td>\n",
       "      <td>Standard</td>\n",
       "    </tr>\n",
       "    <tr>\n",
       "      <th>1</th>\n",
       "      <td>0</td>\n",
       "      <td>9.190868</td>\n",
       "      <td>11.886381</td>\n",
       "      <td>0.067501</td>\n",
       "      <td>0.000000</td>\n",
       "      <td>0</td>\n",
       "      <td>0.022645</td>\n",
       "      <td>0</td>\n",
       "      <td>0</td>\n",
       "      <td>Standard</td>\n",
       "    </tr>\n",
       "    <tr>\n",
       "      <th>2</th>\n",
       "      <td>1</td>\n",
       "      <td>9.463710</td>\n",
       "      <td>12.851097</td>\n",
       "      <td>0.033794</td>\n",
       "      <td>12.851097</td>\n",
       "      <td>0</td>\n",
       "      <td>0.249749</td>\n",
       "      <td>0</td>\n",
       "      <td>0</td>\n",
       "      <td>Standard</td>\n",
       "    </tr>\n",
       "    <tr>\n",
       "      <th>3</th>\n",
       "      <td>1</td>\n",
       "      <td>8.756525</td>\n",
       "      <td>12.967941</td>\n",
       "      <td>0.014823</td>\n",
       "      <td>12.967941</td>\n",
       "      <td>0</td>\n",
       "      <td>0.004119</td>\n",
       "      <td>0</td>\n",
       "      <td>0</td>\n",
       "      <td>Standard</td>\n",
       "    </tr>\n",
       "    <tr>\n",
       "      <th>4</th>\n",
       "      <td>1</td>\n",
       "      <td>9.151537</td>\n",
       "      <td>13.042374</td>\n",
       "      <td>0.020426</td>\n",
       "      <td>13.042374</td>\n",
       "      <td>0</td>\n",
       "      <td>0.049060</td>\n",
       "      <td>0</td>\n",
       "      <td>0</td>\n",
       "      <td>Standard</td>\n",
       "    </tr>\n",
       "  </tbody>\n",
       "</table>\n",
       "</div>"
      ],
      "text/plain": [
       "   employed  log_bank_balance  log_annual_salary  balance_to_salary  \\\n",
       "0         1          9.077421          13.185039           0.016445   \n",
       "1         0          9.190868          11.886381           0.067501   \n",
       "2         1          9.463710          12.851097           0.033794   \n",
       "3         1          8.756525          12.967941           0.014823   \n",
       "4         1          9.151537          13.042374           0.020426   \n",
       "\n",
       "   employed_x_log_salary  DEFAULT        PD  pred_fixed_0_5  pred_topK  \\\n",
       "0              13.185039        0  0.035087               0          0   \n",
       "1               0.000000        0  0.022645               0          0   \n",
       "2              12.851097        0  0.249749               0          0   \n",
       "3              12.967941        0  0.004119               0          0   \n",
       "4              13.042374        0  0.049060               0          0   \n",
       "\n",
       "  risk_band  \n",
       "0  Standard  \n",
       "1  Standard  \n",
       "2  Standard  \n",
       "3  Standard  \n",
       "4  Standard  "
      ]
     },
     "execution_count": 8,
     "metadata": {},
     "output_type": "execute_result"
    }
   ],
   "source": [
    "# Save scored outputs\n",
    "out_dir = ROOT / \"reports\"\n",
    "out_dir.mkdir(parents=True, exist_ok=True)\n",
    "\n",
    "columns_to_keep = FEATURES + [TARGET, \"PD\", \"pred_fixed_0_5\", \"pred_topK\", \"risk_band\"]\n",
    "scored_path = out_dir / \"scored_customers.csv\"\n",
    "df_scored[columns_to_keep].to_csv(scored_path, index=False)\n",
    "\n",
    "print(\"Saved scored file to:\", scored_path)\n",
    "df_scored[columns_to_keep].head()\n"
   ]
  },
  {
   "cell_type": "markdown",
   "id": "48a161f0",
   "metadata": {},
   "source": [
    "Check flagged outputs"
   ]
  },
  {
   "cell_type": "code",
   "execution_count": 9,
   "id": "38624144",
   "metadata": {},
   "outputs": [
    {
     "data": {
      "text/html": [
       "<div>\n",
       "<style scoped>\n",
       "    .dataframe tbody tr th:only-of-type {\n",
       "        vertical-align: middle;\n",
       "    }\n",
       "\n",
       "    .dataframe tbody tr th {\n",
       "        vertical-align: top;\n",
       "    }\n",
       "\n",
       "    .dataframe thead th {\n",
       "        text-align: right;\n",
       "    }\n",
       "</style>\n",
       "<table border=\"1\" class=\"dataframe\">\n",
       "  <thead>\n",
       "    <tr style=\"text-align: right;\">\n",
       "      <th></th>\n",
       "      <th>policy</th>\n",
       "      <th>n_flagged</th>\n",
       "      <th>portfolio</th>\n",
       "      <th>flag_rate</th>\n",
       "    </tr>\n",
       "  </thead>\n",
       "  <tbody>\n",
       "    <tr>\n",
       "      <th>0</th>\n",
       "      <td>fixed_0_5</td>\n",
       "      <td>1804</td>\n",
       "      <td>10000</td>\n",
       "      <td>0.1804</td>\n",
       "    </tr>\n",
       "    <tr>\n",
       "      <th>1</th>\n",
       "      <td>topK_10pct</td>\n",
       "      <td>1000</td>\n",
       "      <td>10000</td>\n",
       "      <td>0.1000</td>\n",
       "    </tr>\n",
       "  </tbody>\n",
       "</table>\n",
       "</div>"
      ],
      "text/plain": [
       "       policy  n_flagged  portfolio  flag_rate\n",
       "0   fixed_0_5       1804      10000     0.1804\n",
       "1  topK_10pct       1000      10000     0.1000"
      ]
     },
     "execution_count": 9,
     "metadata": {},
     "output_type": "execute_result"
    }
   ],
   "source": [
    "# How many are flagged by each policy?\n",
    "counts = pd.DataFrame({\n",
    "    \"policy\": [\"fixed_0_5\", \"topK_10pct\"],\n",
    "    \"n_flagged\": [df_scored[\"pred_fixed_0_5\"].sum(), df_scored[\"pred_topK\"].sum()],\n",
    "    \"portfolio\": [len(df_scored), len(df_scored)]\n",
    "})\n",
    "counts[\"flag_rate\"] = (counts[\"n_flagged\"] / counts[\"portfolio\"]).round(4)\n",
    "counts\n"
   ]
  }
 ],
 "metadata": {
  "kernelspec": {
   "display_name": "Python 3",
   "language": "python",
   "name": "python3"
  },
  "language_info": {
   "codemirror_mode": {
    "name": "ipython",
    "version": 3
   },
   "file_extension": ".py",
   "mimetype": "text/x-python",
   "name": "python",
   "nbconvert_exporter": "python",
   "pygments_lexer": "ipython3",
   "version": "3.10.0"
  }
 },
 "nbformat": 4,
 "nbformat_minor": 5
}
